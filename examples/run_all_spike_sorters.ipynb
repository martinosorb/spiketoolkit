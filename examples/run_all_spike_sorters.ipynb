{
 "cells": [
  {
   "cell_type": "code",
   "execution_count": 1,
   "metadata": {},
   "outputs": [
    {
     "name": "stdout",
     "output_type": "stream",
     "text": [
      "The autoreload extension is already loaded. To reload it, use:\n",
      "  %reload_ext autoreload\n"
     ]
    }
   ],
   "source": [
    "# For development purposes, reload imported modules when source changes\n",
    "%load_ext autoreload\n",
    "%autoreload 2\n",
    "\n",
    "import spikeextractors as se\n",
    "import spikewidgets as sw\n",
    "import spiketoolkit as st\n",
    "import os, sys"
   ]
  },
  {
   "cell_type": "code",
   "execution_count": 2,
   "metadata": {},
   "outputs": [],
   "source": [
    "# Create a toy example dataset\n",
    "recording, sorting_true=se.example_datasets.toy_example1(duration=300, num_channels=4)"
   ]
  },
  {
   "cell_type": "code",
   "execution_count": 3,
   "metadata": {},
   "outputs": [],
   "source": [
    "# View the filtered timeseries data\n",
    "filt=st.preprocessing.bandpass_filter(recording,freq_min=300,freq_max=6000)"
   ]
  },
  {
   "cell_type": "code",
   "execution_count": 4,
   "metadata": {},
   "outputs": [
    {
     "data": {
      "application/vnd.jupyter.widget-view+json": {
       "model_id": "d7940aa912eb406c99f9a4807008e871",
       "version_major": 2,
       "version_minor": 0
      },
      "text/plain": [
       "VBox(children=(HBox(children=(Button(icon='plus-square', layout=Layout(width='40px'), style=ButtonStyle(), too…"
      ]
     },
     "metadata": {},
     "output_type": "display_data"
    },
    {
     "data": {
      "image/png": "[encoded data removed]",
      "text/plain": [
       "<Figure size 504x180 with 1 Axes>"
      ]
     },
     "metadata": {
      "needs_background": "light"
     },
     "output_type": "display_data"
    }
   ],
   "source": [
    "sw.TimeseriesWidget(recording=filt,width=7,height=2.5).display()"
   ]
  },
  {
   "cell_type": "code",
   "execution_count": 5,
   "metadata": {},
   "outputs": [],
   "source": [
    "traces = filt.getTraces()"
   ]
  },
  {
   "cell_type": "code",
   "execution_count": 6,
   "metadata": {},
   "outputs": [],
   "source": [
    "# Create a temporary working directory if needed\n",
    "if not os.path.exists('tmp'): os.mkdir('tmp')"
   ]
  },
  {
   "cell_type": "code",
   "execution_count": 15,
   "metadata": {},
   "outputs": [
    {
     "name": "stdout",
     "output_type": "stream",
     "text": [
      "Using 6 workers.\n",
      "Using tmpdir: /tmp/tmpcp6gx7d1\n",
      "Num. workers = 6\n",
      "Preparing /tmp/tmpcp6gx7d1/timeseries.hdf5...\n",
      "Preparing neighborhood sorters (M=4, N=9000000)...\n",
      "Neighboorhood of channel 2 has 4 channels.\n",
      "Neighboorhood of channel 3 has 4 channels.\n",
      "Neighboorhood of channel 0 has 4 channels.\n",
      "Neighboorhood of channel 1 has 4 channels.\n",
      "Detecting events on channel 1 (phase1)...\n",
      "Detecting events on channel 3 (phase1)...\n",
      "Detecting events on channel 2 (phase1)...\n",
      "Detecting events on channel 4 (phase1)...\n",
      "Elapsed time for detect on neighborhood: 0:00:00.947243\n",
      "Num events detected on channel 1 (phase1): 3181\n",
      "Computing PCA features for channel 1 (phase1)...\n",
      "Elapsed time for detect on neighborhood: 0:00:00.945945\n",
      "Num events detected on channel 2 (phase1): 8429\n",
      "Computing PCA features for channel 2 (phase1)...\n",
      "Elapsed time for detect on neighborhood: 0:00:00.957852\n",
      "Num events detected on channel 4 (phase1): 6645\n",
      "Computing PCA features for channel 4 (phase1)...\n",
      "Elapsed time for detect on neighborhood: 0:00:00.965898\n",
      "Num events detected on channel 3 (phase1): 9844\n",
      "Computing PCA features for channel 3 (phase1)...\n",
      "Clustering for channel 3 (phase1)...\n",
      "Clustering for channel 2 (phase1)...\n",
      "Clustering for channel 1 (phase1)...\n",
      "Clustering for channel 4 (phase1)...\n",
      "Found 8 clusters for channel 1 (phase1)...\n",
      "Computing templates for channel 1 (phase1)...\n",
      "Found 16 clusters for channel 3 (phase1)...\n",
      "Computing templates for channel 3 (phase1)...\n",
      "Found 13 clusters for channel 4 (phase1)...\n",
      "Computing templates for channel 4 (phase1)...\n",
      "Found 15 clusters for channel 2 (phase1)...\n",
      "Re-assigning events for channel 1 (phase1)...\n",
      "Re-assigning 26 events from 1 to 2 with dt=-1 (k=2)\n",
      "Computing templates for channel 2 (phase1)...\n",
      "Re-assigning events for channel 4 (phase1)...\n",
      "Re-assigning 2 events from 4 to 1 with dt=-8 (k=2)\n",
      "Re-assigning 6 events from 4 to 3 with dt=-1 (k=11)\n",
      "Re-assigning events for channel 3 (phase1)...\n",
      "Re-assigning 3 events from 3 to 2 with dt=-4 (k=3)\n",
      "Re-assigning 49 events from 3 to 2 with dt=-1 (k=9)\n",
      "Re-assigning 4 events from 3 to 4 with dt=-1 (k=16)\n",
      "Re-assigning events for channel 2 (phase1)...\n",
      "Re-assigning 6 events from 2 to 1 with dt=-1 (k=2)\n",
      "Re-assigning 1 events from 2 to 3 with dt=-1 (k=12)\n",
      "Neighboorhood of channel 0 has 4 channels.\n",
      "Neighboorhood of channel 2 has 4 channels.\n",
      "Neighboorhood of channel 3 has 4 channels.\n",
      "Neighboorhood of channel 1 has 4 channels.\n",
      "Computing PCA features for channel 2 (phase2)...\n",
      "Computing PCA features for channel 3 (phase2)...\n",
      "Computing PCA features for channel 4 (phase2)...\n",
      "Computing PCA features for channel 1 (phase2)...\n",
      "No duplicate events found for channel 1 in phase2\n",
      "No duplicate events found for channel 0 in phase2\n",
      "No duplicate events found for channel 2 in phase2\n",
      "No duplicate events found for channel 3 in phase2\n",
      "Clustering for channel 1 (phase2)...\n",
      "Clustering for channel 4 (phase2)...\n",
      "Clustering for channel 2 (phase2)...\n",
      "Clustering for channel 3 (phase2)...\n",
      "Found 3 clusters for channel 1 (phase2)...\n",
      "Found 3 clusters for channel 4 (phase2)...\n",
      "Found 4 clusters for channel 3 (phase2)...\n",
      "Found 4 clusters for channel 2 (phase2)...\n",
      "Preparing output...\n",
      "Done with ms4alg.\n",
      "Cleaning tmpdir::::: /tmp/tmpcp6gx7d1\n",
      "Elapsed time:  10.106372356414795\n"
     ]
    }
   ],
   "source": [
    "# Mountainsort4 spike sorting\n",
    "sorting_MS4=st.sorters.mountainsort4(\n",
    "    recording=recording,\n",
    "    detect_sign=-1,\n",
    "    adjacency_radius=-1\n",
    ")"
   ]
  },
  {
   "cell_type": "code",
   "execution_count": 12,
   "metadata": {},
   "outputs": [
    {
     "name": "stdout",
     "output_type": "stream",
     "text": [
      "> \u001b[0;32m/home/alessiob/Documents/Codes/spike_sorting/ml_ms4alg/ml_ms4alg/ms4alg.py\u001b[0m(549)\u001b[0;36mprepare_timeseries_hdf5_from_recording\u001b[0;34m()\u001b[0m\n",
      "\u001b[0;32m    547 \u001b[0;31m            \u001b[0mtraces\u001b[0m \u001b[0;34m=\u001b[0m \u001b[0mrecording\u001b[0m\u001b[0;34m.\u001b[0m\u001b[0mgetTraces\u001b[0m\u001b[0;34m(\u001b[0m\u001b[0mstart_frame\u001b[0m\u001b[0;34m=\u001b[0m\u001b[0ms1\u001b[0m\u001b[0;34m,\u001b[0m\u001b[0mend_frame\u001b[0m\u001b[0;34m=\u001b[0m\u001b[0ms2\u001b[0m\u001b[0;34m)\u001b[0m\u001b[0;34m\u001b[0m\u001b[0m\n",
      "\u001b[0m\u001b[0;32m    548 \u001b[0;31m            \u001b[0mprint\u001b[0m\u001b[0;34m(\u001b[0m\u001b[0mj\u001b[0m\u001b[0;34m,\u001b[0m \u001b[0mtraces\u001b[0m\u001b[0;34m.\u001b[0m\u001b[0mshape\u001b[0m\u001b[0;34m,\u001b[0m \u001b[0ms1\u001b[0m\u001b[0;34m,\u001b[0m \u001b[0ms2\u001b[0m\u001b[0;34m,\u001b[0m \u001b[0maa\u001b[0m\u001b[0;34m,\u001b[0m \u001b[0maa\u001b[0m\u001b[0;34m+\u001b[0m\u001b[0ms2\u001b[0m\u001b[0;34m-\u001b[0m\u001b[0ms1\u001b[0m\u001b[0;34m,\u001b[0m \u001b[0mpadded_chunk\u001b[0m\u001b[0;34m.\u001b[0m\u001b[0mshape\u001b[0m\u001b[0;34m)\u001b[0m\u001b[0;34m\u001b[0m\u001b[0m\n",
      "\u001b[0m\u001b[0;32m--> 549 \u001b[0;31m            \u001b[0;32mraise\u001b[0m \u001b[0mException\u001b[0m\u001b[0;34m(\u001b[0m\u001b[0;34m)\u001b[0m\u001b[0;34m\u001b[0m\u001b[0m\n",
      "\u001b[0m\u001b[0;32m    550 \u001b[0;31m            \u001b[0mpadded_chunk\u001b[0m\u001b[0;34m[\u001b[0m\u001b[0;34m:\u001b[0m\u001b[0;34m,\u001b[0m\u001b[0maa\u001b[0m\u001b[0;34m:\u001b[0m\u001b[0maa\u001b[0m\u001b[0;34m+\u001b[0m\u001b[0ms2\u001b[0m\u001b[0;34m-\u001b[0m\u001b[0ms1\u001b[0m\u001b[0;34m]\u001b[0m\u001b[0;34m=\u001b[0m\u001b[0mrecording\u001b[0m\u001b[0;34m.\u001b[0m\u001b[0mgetTraces\u001b[0m\u001b[0;34m(\u001b[0m\u001b[0mstart_frame\u001b[0m\u001b[0;34m=\u001b[0m\u001b[0ms1\u001b[0m\u001b[0;34m,\u001b[0m\u001b[0mend_frame\u001b[0m\u001b[0;34m=\u001b[0m\u001b[0ms2\u001b[0m\u001b[0;34m)\u001b[0m \u001b[0;31m# Read the padded chunk\u001b[0m\u001b[0;34m\u001b[0m\u001b[0m\n",
      "\u001b[0m\u001b[0;32m    551 \u001b[0;31m\u001b[0;34m\u001b[0m\u001b[0m\n",
      "\u001b[0m\n",
      "ipdb> recording.getTraces(start_frame=s1,end_frame=s2).shape\n",
      "(4, 1000500)\n",
      "ipdb> padded_chunk[:,aa:aa+s2-s1].shape\n",
      "(4, 1000500)\n",
      "ipdb> padded_chunk[:,aa:aa+s2-s1]=recording.getTraces(start_frame=s1,end_frame=s2)\n",
      "ipdb> exit\n"
     ]
    }
   ],
   "source": [
    "%debug"
   ]
  },
  {
   "cell_type": "code",
   "execution_count": null,
   "metadata": {},
   "outputs": [],
   "source": [
    "# SpyKING Circus spike sorting\n",
    "sorting_SC=st.sorters.spyking_circus(\n",
    "    recording=recording,\n",
    "    adjacency_radius=50,\n",
    "    detect_sign=-1,\n",
    "    output_folder='tmp',\n",
    ")"
   ]
  },
  {
   "cell_type": "code",
   "execution_count": null,
   "metadata": {},
   "outputs": [],
   "source": [
    "# KiloSort spike sorting (KILOSORT_PATH and NPY_MATLAB_PATH can be set as environment variables)\n",
    "sorting_KS=st.sorters.kilosort(\n",
    "    recording=recording,\n",
    "    output_folder='tmp',\n",
    "    kilosort_path='../../KiloSort/',\n",
    "    npy_matlab_path='../../../npy-matlab/'\n",
    ")"
   ]
  },
  {
   "cell_type": "code",
   "execution_count": null,
   "metadata": {},
   "outputs": [],
   "source": [
    "# Klusta spike sorting\n",
    "sorting_KL=st.sorters.klusta(\n",
    "        recording, # The recording extractor\n",
    "        output_folder='tmp',\n",
    "        )"
   ]
  },
  {
   "cell_type": "code",
   "execution_count": null,
   "metadata": {},
   "outputs": [],
   "source": [
    "# IronClust spike sorting (IRONCLUST_PATH can be set as environment variables)\n",
    "sorting_IC=st.sorters.ironclust(\n",
    "    recording=recording,\n",
    "    detect_sign=-1,\n",
    "    adjacency_radius=-1,\n",
    "    prm_template_name='tetrode_template.prm',\n",
    "    ironclust_path='../../ironclust',\n",
    "    tmpdir='tmp',\n",
    ")"
   ]
  },
  {
   "cell_type": "code",
   "execution_count": null,
   "metadata": {},
   "outputs": [],
   "source": [
    "# Compute SNRs of true units\n",
    "snrs=st.postprocessing.computeUnitSNR(recording=recording, sorting=sorting_true, unit_ids=sorting_true.getUnitIds())\n",
    "sorting_true.setUnitsProperty(property_name='SNR',values=snrs)"
   ]
  },
  {
   "cell_type": "code",
   "execution_count": null,
   "metadata": {},
   "outputs": [],
   "source": [
    "# Comparison MountainSort4 vs truth\n",
    "comparison_MS4=st.comparison.SortingComparison(sorting_true,sorting_MS4)\n",
    "sw.SortingAccuracyWidget(sorting_comparison=comparison_MS4, property_name='SNR').plot()"
   ]
  },
  {
   "cell_type": "code",
   "execution_count": null,
   "metadata": {},
   "outputs": [],
   "source": [
    "# Comparison KiloSort vs truth\n",
    "comparison_KS=st.comparison.SortingComparison(sorting_true,sorting_KS)\n",
    "sw.SortingAccuracyWidget(sorting_comparison=comparison_KS, property_name='SNR').plot()"
   ]
  },
  {
   "cell_type": "code",
   "execution_count": null,
   "metadata": {},
   "outputs": [],
   "source": [
    "# Comparison SpyKING Circus vs truth\n",
    "comparison_SC=st.comparison.SortingComparison(sorting_true,sorting_SC)\n",
    "sw.SortingAccuracyWidget(sorting_comparison=comparison_SC, property_name='SNR').plot()"
   ]
  },
  {
   "cell_type": "code",
   "execution_count": null,
   "metadata": {},
   "outputs": [],
   "source": [
    "# Comparison Klusta vs truth\n",
    "comparison_KL=st.comparison.SortingComparison(sorting_true,sorting_KL)\n",
    "sw.SortingAccuracyWidget(sorting_comparison=comparison_KL, property_name='SNR').plot()"
   ]
  },
  {
   "cell_type": "code",
   "execution_count": null,
   "metadata": {},
   "outputs": [],
   "source": [
    "# Comparison IronClust vs truth\n",
    "comparison_IC=st.comparison.SortingComparison(sorting_true,sorting_IC)\n",
    "sw.SortingAccuracyWidget(sorting_comparison=comparison_IC, property_name='SNR').plot()"
   ]
  },
  {
   "cell_type": "code",
   "execution_count": null,
   "metadata": {},
   "outputs": [],
   "source": [
    "sw.SortingComparisonTable(comparison_MS4).display()"
   ]
  },
  {
   "cell_type": "code",
   "execution_count": null,
   "metadata": {},
   "outputs": [],
   "source": [
    "sw.SortingComparisonTable(comparison_KS).display()"
   ]
  },
  {
   "cell_type": "code",
   "execution_count": null,
   "metadata": {},
   "outputs": [],
   "source": [
    "sw.SortingComparisonTable(comparison_SC).display()"
   ]
  },
  {
   "cell_type": "code",
   "execution_count": null,
   "metadata": {},
   "outputs": [],
   "source": [
    "sw.SortingComparisonTable(comparison_KL).display()"
   ]
  },
  {
   "cell_type": "code",
   "execution_count": null,
   "metadata": {},
   "outputs": [],
   "source": [
    "sw.SortingComparisonTable(comparison_IC).display()"
   ]
  },
  {
   "cell_type": "code",
   "execution_count": null,
   "metadata": {},
   "outputs": [],
   "source": [
    "comparison_MS4.plotConfusionMatrix()"
   ]
  },
  {
   "cell_type": "code",
   "execution_count": null,
   "metadata": {},
   "outputs": [],
   "source": [
    "# You can use Phy to manually curate the sorting output of any spike sorter\n",
    "st.postprocessing.exportToPhy(recording, sorting_true, output_folder='ms4')"
   ]
  },
  {
   "cell_type": "code",
   "execution_count": null,
   "metadata": {},
   "outputs": [],
   "source": [
    "!phy template-gui  /home/alessiob/Documents/Codes/spike_sorting/spiketoolkit/examples/ms4/params.py"
   ]
  },
  {
   "cell_type": "code",
   "execution_count": null,
   "metadata": {},
   "outputs": [],
   "source": [
    "sorting_M4_curated = si.PhysortingExtractor('mountainsort/')"
   ]
  }
 ],
 "metadata": {
  "kernelspec": {
   "display_name": "Python 3",
   "language": "python",
   "name": "python3"
  },
  "language_info": {
   "codemirror_mode": {
    "name": "ipython",
    "version": 3
   },
   "file_extension": ".py",
   "mimetype": "text/x-python",
   "name": "python",
   "nbconvert_exporter": "python",
   "pygments_lexer": "ipython3",
   "version": "3.5.6"
  }
 },
 "nbformat": 4,
 "nbformat_minor": 2
}
