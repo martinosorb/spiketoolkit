{
 "cells": [
  {
   "cell_type": "code",
   "execution_count": 1,
   "metadata": {},
   "outputs": [
    {
     "name": "stdout",
     "output_type": "stream",
     "text": [
      "The autoreload extension is already loaded. To reload it, use:\n",
      "  %reload_ext autoreload\n"
     ]
    }
   ],
   "source": [
    "%load_ext autoreload\n",
    "%autoreload 2"
   ]
  },
  {
   "cell_type": "code",
   "execution_count": 2,
   "metadata": {},
   "outputs": [],
   "source": [
    "import spikeextractors as se\n",
    "import spiketoolkit as st\n",
    "import spikewidgets as sw\n",
    "import time\n",
    "import numpy as np\n",
    "import matplotlib.pylab as plt"
   ]
  },
  {
   "cell_type": "code",
   "execution_count": 3,
   "metadata": {},
   "outputs": [],
   "source": [
    "recording, sorting = se.example_datasets.toy_example1(num_channels=4, duration=30)"
   ]
  },
  {
   "cell_type": "code",
   "execution_count": 4,
   "metadata": {},
   "outputs": [
    {
     "name": "stdout",
     "output_type": "stream",
     "text": [
      "Using 6 workers.\n",
      "Using tmpdir: /tmp/tmpt2u6lly5\n",
      "Num. workers = 6\n",
      "Preparing /tmp/tmpt2u6lly5/timeseries.hdf5...\n",
      "Preparing neighborhood sorters (M=4, N=900000)...\n",
      "Neighboorhood of channel 1 has 4 channels.\n",
      "Neighboorhood of channel 2 has 4 channels.\n",
      "Neighboorhood of channel 3 has 4 channels.\n",
      "Neighboorhood of channel 0 has 4 channels.\n",
      "Detecting events on channel 3 (phase1)...\n",
      "Detecting events on channel 1 (phase1)...\n",
      "Detecting events on channel 2 (phase1)...\n",
      "Detecting events on channel 4 (phase1)...\n",
      "Elapsed time for detect on neighborhood: 0:00:00.099491\n",
      "Num events detected on channel 3 (phase1): 1026\n",
      "Computing PCA features for channel 3 (phase1)...\n",
      "Elapsed time for detect on neighborhood: 0:00:00.112735\n",
      "Num events detected on channel 2 (phase1): 803\n",
      "Computing PCA features for channel 2 (phase1)...\n",
      "Elapsed time for detect on neighborhood: 0:00:00.153409\n",
      "Elapsed time for detect on neighborhood: 0:00:00.153698\n",
      "Num events detected on channel 4 (phase1): 1135\n",
      "Num events detected on channel 1 (phase1): 729\n",
      "Computing PCA features for channel 4 (phase1)...\n",
      "Computing PCA features for channel 1 (phase1)...\n",
      "Clustering for channel 3 (phase1)...\n",
      "Clustering for channel 1 (phase1)...\n",
      "Clustering for channel 2 (phase1)...\n",
      "Clustering for channel 4 (phase1)...\n",
      "Found 9 clusters for channel 4 (phase1)...\n",
      "Computing templates for channel 4 (phase1)...\n",
      "Found 1 clusters for channel 3 (phase1)...\n",
      "Found 4 clusters for channel 2 (phase1)...\n",
      "Found 3 clusters for channel 1 (phase1)...\n",
      "Re-assigning events for channel 4 (phase1)...\n",
      "Re-assigning 1 events from 4 to 3 with dt=-3 (k=6)\n",
      "Computing templates for channel 1 (phase1)...\n",
      "Computing templates for channel 2 (phase1)...\n",
      "Computing templates for channel 3 (phase1)...\n",
      "Re-assigning 10 events from 4 to 3 with dt=-1 (k=8)\n",
      "Re-assigning events for channel 2 (phase1)...\n",
      "Re-assigning events for channel 3 (phase1)...\n",
      "Re-assigning events for channel 1 (phase1)...\n",
      "Neighboorhood of channel 3 has 4 channels.\n",
      "Neighboorhood of channel 2 has 4 channels.\n",
      "Computing PCA features for channel 4 (phase2)...\n",
      "Computing PCA features for channel 3 (phase2)...\n",
      "No duplicate events found for channel 3 in phase2\n",
      "No duplicate events found for channel 2 in phase2\n",
      "Neighboorhood of channel 0 has 4 channels.\n",
      "Computing PCA features for channel 1 (phase2)...\n",
      "No duplicate events found for channel 0 in phase2\n",
      "Neighboorhood of channel 1 has 4 channels.\n",
      "Computing PCA features for channel 2 (phase2)...\n",
      "No duplicate events found for channel 1 in phase2\n",
      "Clustering for channel 4 (phase2)...\n",
      "Clustering for channel 3 (phase2)...\n",
      "Clustering for channel 1 (phase2)...\n",
      "Clustering for channel 2 (phase2)...\n",
      "Found 3 clusters for channel 4 (phase2)...\n",
      "Found 4 clusters for channel 3 (phase2)...\n",
      "Found 4 clusters for channel 2 (phase2)...\n",
      "Found 3 clusters for channel 1 (phase2)...\n",
      "Preparing output...\n",
      "Done with ms4alg.\n",
      "Cleaning tmpdir::::: /tmp/tmpt2u6lly5\n",
      "Elapsed time:  2.850621461868286\n"
     ]
    }
   ],
   "source": [
    "sorting_ms4 = st.sorters.mountainsort4(recording=recording, adjacency_radius=10)"
   ]
  },
  {
   "cell_type": "code",
   "execution_count": 11,
   "metadata": {},
   "outputs": [
    {
     "name": "stdout",
     "output_type": "stream",
     "text": [
      "[73, 71, 72, 70, 68, 73, 73, 71, 70, 69]\n"
     ]
    }
   ],
   "source": [
    "print([len(sorting.getUnitSpikeTrain(i)) for i in sorting.getUnitIds()])"
   ]
  },
  {
   "cell_type": "code",
   "execution_count": 12,
   "metadata": {},
   "outputs": [
    {
     "data": {
      "text/plain": [
       "[3]"
      ]
     },
     "execution_count": 12,
     "metadata": {},
     "output_type": "execute_result"
    }
   ],
   "source": [
    "sorting_ms4.getUnitIds()"
   ]
  },
  {
   "cell_type": "code",
   "execution_count": 13,
   "metadata": {},
   "outputs": [],
   "source": [
    "rec_f = st.preprocessing.bandpass_filter(recording)"
   ]
  },
  {
   "cell_type": "code",
   "execution_count": 21,
   "metadata": {},
   "outputs": [
    {
     "name": "stdout",
     "output_type": "stream",
     "text": [
      "[3]\n",
      "Waveform 1/1\n",
      "0.003336668014526367\n"
     ]
    }
   ],
   "source": [
    "ts = time.time()\n",
    "wf = st.postprocessing.getUnitWaveforms(rec_f, sorting_ms4, verbose=True)\n",
    "print(time.time()-ts)"
   ]
  },
  {
   "cell_type": "code",
   "execution_count": 26,
   "metadata": {},
   "outputs": [
    {
     "data": {
      "text/plain": [
       "['waveforms']"
      ]
     },
     "execution_count": 26,
     "metadata": {},
     "output_type": "execute_result"
    }
   ],
   "source": [
    "sorting_ms4.getUnitSpikeFeatureNames()"
   ]
  },
  {
   "cell_type": "code",
   "execution_count": 27,
   "metadata": {},
   "outputs": [
    {
     "name": "stdout",
     "output_type": "stream",
     "text": [
      "Using 'waveforms' features\n"
     ]
    }
   ],
   "source": [
    "templates = st.postprocessing.getUnitTemplate(recording, sorting_ms4)"
   ]
  },
  {
   "cell_type": "code",
   "execution_count": null,
   "metadata": {},
   "outputs": [],
   "source": [
    "sorting_ms4.getUnitPropertyNames()"
   ]
  },
  {
   "cell_type": "code",
   "execution_count": null,
   "metadata": {},
   "outputs": [],
   "source": [
    "max_chan = st.postprocessing.getUnitMaxChannel(recording, sorting_ms4)"
   ]
  },
  {
   "cell_type": "code",
   "execution_count": null,
   "metadata": {},
   "outputs": [],
   "source": [
    "sorting.getUnitPropertyNames()"
   ]
  },
  {
   "cell_type": "code",
   "execution_count": null,
   "metadata": {},
   "outputs": [],
   "source": [
    "pca_scores = st.postprocessing.computePCAScores(recording, sorting_ms4)"
   ]
  },
  {
   "cell_type": "code",
   "execution_count": null,
   "metadata": {},
   "outputs": [],
   "source": [
    "snr = st.postprocessing.computeUnitSNR(recording, sorting)"
   ]
  },
  {
   "cell_type": "code",
   "execution_count": null,
   "metadata": {},
   "outputs": [],
   "source": [
    "print(sorting.getUnitPropertyNames())\n",
    "print(sorting.getUnitSpikeFeatureNames())"
   ]
  },
  {
   "cell_type": "code",
   "execution_count": 7,
   "metadata": {},
   "outputs": [
    {
     "name": "stdout",
     "output_type": "stream",
     "text": [
      "Changed number of PC to number of channels:  4\n",
      "Computing waveforms\n",
      "Fitting PCA of 4 dimensions on 2788 waveforms\n",
      "Using 'waveforms' features\n",
      "Saved phy format to:  /home/alessiob/Documents/Codes/spike_sorting/spiketoolkit/examples/tmp\n",
      "Run:\n",
      "\n",
      "phy template-gui  /home/alessiob/Documents/Codes/spike_sorting/spiketoolkit/examples/tmp/params.py\n"
     ]
    }
   ],
   "source": [
    "st.postprocessing.exportToPhy(recording, sorting, output_folder='tmp')"
   ]
  },
  {
   "cell_type": "code",
   "execution_count": 8,
   "metadata": {},
   "outputs": [
    {
     "name": "stdout",
     "output_type": "stream",
     "text": [
      "14:02:58 [I] klustakwik KlustaKwik2 version 0.2.6\n",
      "\u001b[33m14:02:58 [W] gui:581              Template feature file is not available, the template feature view won't be displayed.\u001b[0m\n",
      "/home/alessiob/Documents/Codes/expipe/cinpla-base/src/phy/phy/plot/visuals.py:520: FutureWarning: arrays to stack must be passed as a \"sequence\" type such as list or tuple. Support for non-sequence iterables such as generators is deprecated as of NumPy 1.16 and will raise an error in the future.\n",
      "  pos = np.vstack(_tesselate_histogram(row) for row in hist)\n",
      "\u001b[33m14:03:10 [W] actions:171          Invalid function arguments: expecting 1 but got 0\u001b[0m\n"
     ]
    }
   ],
   "source": [
    "!phy template-gui  /home/alessiob/Documents/Codes/spike_sorting/spiketoolkit/examples/tmp/params.py"
   ]
  }
 ],
 "metadata": {
  "kernelspec": {
   "display_name": "Python 3",
   "language": "python",
   "name": "python3"
  },
  "language_info": {
   "codemirror_mode": {
    "name": "ipython",
    "version": 3
   },
   "file_extension": ".py",
   "mimetype": "text/x-python",
   "name": "python",
   "nbconvert_exporter": "python",
   "pygments_lexer": "ipython3",
   "version": "3.5.6"
  }
 },
 "nbformat": 4,
 "nbformat_minor": 2
}
